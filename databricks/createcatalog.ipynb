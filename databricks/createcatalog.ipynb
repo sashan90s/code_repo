{
 "cells": [
  {
   "cell_type": "markdown",
   "id": "c06dd2af",
   "metadata": {},
   "source": [
    "# --- PARAMS (edit these) ------------------------------------------------------\n",
    "catalog_name = \"dev_sihan\"  # your catalog\n",
    "managed_root = \"abfss://uc@mystorageaccount.dfs.core.windows.net/dev_sihan\"  \n",
    "# ^ root for the catalog's managed location (should be empty/new)\n",
    "\n",
    "schemas = [\"bronze\", \"silver\", \"gold\"]  # schemas to create\n",
    "schema_subdirs = True  # put each schema under a subfolder of managed_root\n",
    "\n",
    "# Optional: set an owner and grant access to groups\n",
    "set_owner_principal = \"account users\"  # could be a group or a user; or None to skip\n",
    "grant_groups = [\"data-engineers\", \"analytics-readers\"]  # Azure Entra ID groups synced to UC\n",
    "\n",
    "# What to grant:\n",
    "grant_create_in_catalog_to = [\"data-engineers\"]  # can create schemas/tables\n",
    "grant_usage_in_catalog_to = grant_groups         # can USE CATALOG\n",
    "grant_usage_in_schemas_to = grant_groups         # can USE SCHEMA, SELECT, etc.\n",
    "# -----------------------------------------------------------------------------\n"
   ]
  },
  {
   "cell_type": "code",
   "execution_count": null,
   "id": "55981fc8",
   "metadata": {},
   "outputs": [],
   "source": [
    "\n",
    "import os\n",
    "\n",
    "# Read catalog and managed root from environment variables\n",
    "catalog = os.getenv(\"catalog\")   # set in bundle.yml variables\n",
    "managed_root = os.getenv(\"managed_root\")  # also from bundle.yml\n",
    "diisengineers = os.getenv(\"diisengineers\")  # set in bundle.yml variables\n",
    "\n",
    "# Optional helper to safely quote identifiers\n",
    "def qident(name: str) -> str:\n",
    "    return f\"`{name.replace('`','``')}`\"\n",
    "\n",
    "# 1) Create catalog with managed location (idempotent)\n",
    "spark.sql(f\"\"\"\n",
    "CREATE CATALOG IF NOT EXISTS {qident(catalog)};\n",
    "\"\"\")\n",
    "# no storage location specified, so it defaults to Unity Catalog root\n",
    "\n",
    "# 2) Set owner : make the group the OWNER of the catalog ----------------\n",
    "spark.sql(f\"ALTER CATALOG {qident(catalog)} OWNER TO `{diisengineers}`\")\n",
    "print(f\"✅ {diisengineers} set as OWNER of catalog {catalog}\")\n",
    "\n",
    "# 3) Conditional extra grant if catalog == main_dev\n",
    "if catalog == \"main_dev\":\n",
    "    diisanalysts = os.getenv(\"diisanalysts\", \"diisanalysts\")  # default if not set\n",
    "    spark.sql(f\"GRANT USE CATALOG ON CATALOG {qident(catalog)} TO {qident(diisanalysts)}\")\n",
    "    print(f\"✅ Granted USE CATALOG on {catalog} to {diisanalysts}\")\n",
    "\n",
    "print(\"✅ Catalog and grants ensured for job clusters.\")\n",
    "\n",
    "print(\"✅ Catalog, schemas, and grants ensured for job clusters.\")\n"
   ]
  }
 ],
 "metadata": {
  "language_info": {
   "name": "python"
  }
 },
 "nbformat": 4,
 "nbformat_minor": 5
}
